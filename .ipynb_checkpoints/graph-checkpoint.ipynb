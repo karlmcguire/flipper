{
 "cells": [
  {
   "cell_type": "code",
   "execution_count": 1,
   "metadata": {},
   "outputs": [],
   "source": [
    "import png\n",
    "import numpy as np\n",
    "from PIL import Image\n",
    "import pytesseract\n",
    "from re import sub\n",
    "import sys"
   ]
  },
  {
   "cell_type": "code",
   "execution_count": 451,
   "metadata": {},
   "outputs": [
    {
     "name": "stdout",
     "output_type": "stream",
     "text": [
      "809 485\n"
     ]
    }
   ],
   "source": [
    "r = png.Reader(file=open(\"./data_4.png\", \"rb\"))\n",
    "i = r.asRGBA()\n",
    "w = i[0]\n",
    "h = i[1]\n",
    "d = i[2]\n",
    "print(w, h)"
   ]
  },
  {
   "cell_type": "code",
   "execution_count": 452,
   "metadata": {},
   "outputs": [],
   "source": [
    "a = np.vstack(list(d))\n",
    "p = np.reshape(a, (h, w, 4))"
   ]
  },
  {
   "cell_type": "code",
   "execution_count": 453,
   "metadata": {},
   "outputs": [
    {
     "data": {
      "text/plain": [
       "403"
      ]
     },
     "execution_count": 453,
     "metadata": {},
     "output_type": "execute_result"
    }
   ],
   "source": [
    "yBottom = 0\n",
    "darkest = sys.maxsize\n",
    "for z in range (1, 100):\n",
    "    current = np.sum(p[h-z])\n",
    "    if current < darkest:\n",
    "        darkest = current\n",
    "        yBottom = h-z\n",
    "yBottom"
   ]
  },
  {
   "cell_type": "code",
   "execution_count": 454,
   "metadata": {},
   "outputs": [
    {
     "data": {
      "text/plain": [
       "[55, 124, 194, 264, 335, 405, 475, 545, 615, 685]"
      ]
     },
     "execution_count": 454,
     "metadata": {},
     "output_type": "execute_result"
    }
   ],
   "source": [
    "xAxis = []\n",
    "for c, x in enumerate(p[yBottom+2][55:]):\n",
    "    if x[0] == 75 and x[1] == 75 and x[2] == 75:\n",
    "        xAxis.append(c + 55)\n",
    "xAxis"
   ]
  },
  {
   "cell_type": "code",
   "execution_count": 455,
   "metadata": {},
   "outputs": [
    {
     "data": {
      "text/plain": [
       "[33, 58, 82, 107, 132, 156, 181, 206, 231, 255, 280, 305, 329, 354, 379, 403]"
      ]
     },
     "execution_count": 455,
     "metadata": {},
     "output_type": "execute_result"
    }
   ],
   "source": [
    "yAxis = []\n",
    "for c, x in enumerate(p[30:]):\n",
    "    o = xAxis[0]-2\n",
    "    if x[o][0] == 75 and x[o][0] == 75 and x[o][0] == 75:\n",
    "        yAxis.append(c+30)\n",
    "yAxis"
   ]
  },
  {
   "cell_type": "code",
   "execution_count": 456,
   "metadata": {},
   "outputs": [],
   "source": [
    "green = []\n",
    "for c in xAxis:\n",
    "    for z, x in enumerate(p):\n",
    "        if x[c][0] == 99 and x[c][1] == 168 and x[c][2] == 94:\n",
    "            green.append([c, z])"
   ]
  },
  {
   "cell_type": "code",
   "execution_count": 467,
   "metadata": {},
   "outputs": [],
   "source": [
    "def getLabels(rows):\n",
    "    labels = []\n",
    "    for row in rows:\n",
    "        box = []\n",
    "        for z in range(0, 21):\n",
    "            box.append(p[row-10+z][:xAxis[0]-4].tolist())\n",
    "        boxa = np.asarray(box)\n",
    "        block = Image.fromarray(boxa.astype(np.uint8))\n",
    "        text = pytesseract.image_to_string(block)\n",
    "        #text = sub(\"\\D\", \"\", text)\n",
    "        labels.append((row, text))\n",
    "        #labels.append((row, int(text)))\n",
    "    return labels"
   ]
  },
  {
   "cell_type": "code",
   "execution_count": 468,
   "metadata": {},
   "outputs": [
    {
     "data": {
      "text/plain": [
       "[(33, 'sis'),\n",
       " (58, '$17'),\n",
       " (82, '$16'),\n",
       " (107, '$15,'),\n",
       " (132, 's14'),\n",
       " (156, '$13,'),\n",
       " (181, '$12'),\n",
       " (206, 'su'),\n",
       " (231, '$10'),\n",
       " (255, '$9'),\n",
       " (280, '$8'),\n",
       " (305, '7'),\n",
       " (329, '$6'),\n",
       " (354, '$5'),\n",
       " (379, '$4'),\n",
       " (403, '$3')]"
      ]
     },
     "execution_count": 468,
     "metadata": {},
     "output_type": "execute_result"
    }
   ],
   "source": [
    "getLabels(yAxis)"
   ]
  },
  {
   "cell_type": "code",
   "execution_count": null,
   "metadata": {},
   "outputs": [],
   "source": []
  }
 ],
 "metadata": {
  "kernelspec": {
   "display_name": "Python 3",
   "language": "python",
   "name": "python3"
  },
  "language_info": {
   "codemirror_mode": {
    "name": "ipython",
    "version": 3
   },
   "file_extension": ".py",
   "mimetype": "text/x-python",
   "name": "python",
   "nbconvert_exporter": "python",
   "pygments_lexer": "ipython3",
   "version": "3.7.3"
  }
 },
 "nbformat": 4,
 "nbformat_minor": 2
}
